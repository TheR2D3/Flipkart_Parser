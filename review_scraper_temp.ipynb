{
 "nbformat": 4,
 "nbformat_minor": 2,
 "metadata": {
  "language_info": {
   "name": "python",
   "codemirror_mode": {
    "name": "ipython",
    "version": 3
   },
   "version": "3.7.3-final"
  },
  "orig_nbformat": 2,
  "file_extension": ".py",
  "mimetype": "text/x-python",
  "name": "python",
  "npconvert_exporter": "python",
  "pygments_lexer": "ipython3",
  "version": 3,
  "kernelspec": {
   "name": "python3",
   "display_name": "Python 3"
  }
 },
 "cells": [
  {
   "cell_type": "code",
   "execution_count": 1,
   "metadata": {},
   "outputs": [],
   "source": [
    "import numpy as np\n",
    "import string\n",
    "import re\n",
    "import requests"
   ]
  },
  {
   "cell_type": "code",
   "execution_count": 2,
   "metadata": {},
   "outputs": [],
   "source": [
    "from bs4 import BeautifulSoup"
   ]
  },
  {
   "cell_type": "code",
   "execution_count": 3,
   "metadata": {},
   "outputs": [],
   "source": [
    "headers = {'User-Agent': 'Mozilla/5.0 (Windows NT 10.0; Win64; x64) AppleWebKit/537.36 (KHTML, like Gecko) Chrome/58.0.3029.110 Safari/537.3'}"
   ]
  },
  {
   "cell_type": "code",
   "execution_count": 9,
   "metadata": {
    "tags": [
     "outputPrepend"
    ]
   },
   "outputs": [
    {
     "output_type": "stream",
     "name": "stdout",
     "text": "{if(s.length){y=G.now();for(var a=0;a<s.length;a++){var b=s[a],c=a;p=s[E];D=b;var d=void 0;if(!(d=2>c)){d=void 0;a:if(s[c].t-s[c-1].t>q)d=0;else{for(d=E+1;d<c;d++){var f=p,h=D,k=s[d];A=(h.x-f.x)*(f.y-k.y)-(f.x-k.x)*(h.y-f.y);if(A*A/((h.x-f.x)*(h.x-f.x)+(h.y-f.y)*(h.y-f.y))>u){d=0;break a}}d=1}d=!d}(F=\nd)?E=c-1:B.pop();B.push(b)}g=G.now()-y;v=Math.min(v,g);e=Math.max(e,g);m=(m*w+g)/(w+1);w+=1;n({k:r,e:B,min:Math.floor(1E3*v),max:Math.floor(1E3*e),avg:Math.floor(1E3*m)},{c:1});s=[];B=[];E=0}}var q=100,z=20,u=25,r=\"mmm1\",k,b,d=a.ue,n=a.ue_cel.log,t,v=1E3,e=0,m=0,w=0,y,g,s=[],B=[],E=0,x,p,D,A,F,G=h&&h.now&&h||Date.now&&Date||{now:function(){return(new Date).getTime()}};return{on:function(a){k=a.ts;b=a.ns;d.attach&&d.attach(\"mousemove\",l,c);t=setInterval(f,3E3)},off:function(a){b&&(x&&l(x,!0),f());\nclearInterval(t);d.detach&&d.detach(\"mousemove\",l,c)},ready:function(){return a.ue_cel&&a.ue_cel.log},reset:function(){s=[];B=[];E=0;x=null}}}(window.performance),a.ue_cel&&a.ue_cel.registerModule(\"mouse move module\",a.ue_mmm))})(ue_csm,document);\n\n\n\nue_csm.ue.exec(function(b,c){var e=function(){},f=function(){return{send:function(b,d){if(d&&b){var a;if(c.XDomainRequest)a=new XDomainRequest,a.onerror=e,a.ontimeout=e,a.onprogress=e,a.onload=e,a.timeout=0;else if(c.XMLHttpRequest){if(a=new XMLHttpRequest,!(\"withCredentials\"in a))throw\"\";}else a=void 0;if(!a)throw\"\";a.open(\"POST\",b,!0);a.setRequestHeader&&a.setRequestHeader(\"Content-type\",\"text/plain\");a.send(d)}},isSupported:!0}}(),g=function(){return{send:function(c,d){if(c&&d)if(navigator.sendBeacon(c,\nd))b.ue_sbuimp&&b.ue&&b.ue.ssw&&b.ue.ssw(\"eelsts\",\"scs\");else throw\"\";},isSupported:!!navigator.sendBeacon&&!(c.cordova&&c.cordova.platformId&&\"ios\"==c.cordova.platformId)}}();b.ue._ajx=f;b.ue._sBcn=g},\"Transportation-clients\")(ue_csm,window);\nue_csm.ue.exec(function(b,k){function A(){for(var a=0;a<arguments.length;a++){var c=arguments[a];try{var h;if(c.isSupported){var b=t.buildPayload(l,e);h=c.send(J,b)}else throw dummyException;return h}catch(d){}}B({m:\"All supported clients failed\",attribution:\"CSMSushiClient_TRANSPORTATION_FAIL\",f:\"sushi-client.js\",logLevel:\"ERROR\"},k.ue_err_chan||\"jserr\")}function m(){if(e.length){for(var a=0;a<n.length;a++)n[a]();A(d._sBcn||{},d._ajx||{});e=[];f={};l={};u=v=q=w=0}}function K(){var a=new Date,c=function(a){return 10>\na?\"0\"+a:a};return Date.prototype.toISOString?a.toISOString():a.getUTCFullYear()+\"-\"+c(a.getUTCMonth()+1)+\"-\"+c(a.getUTCDate())+\"T\"+c(a.getUTCHours())+\":\"+c(a.getUTCMinutes())+\":\"+c(a.getUTCSeconds())+\".\"+String((a.getUTCMilliseconds()/1E3).toFixed(3)).slice(2,5)+\"Z\"}function x(a){try{return JSON.stringify(a)}catch(c){}return null}function C(a,c,h,g){var p=!1;g=g||{};r++;r==D&&B({m:\"Max number of Sushi Logs exceeded\",f:\"sushi-client.js\",logLevel:\"ERROR\",attribution:\"CSMSushiClient_MAX_CALLS\"},k.ue_err_chan||\n\"jserr\");var f;if(f=!(r>=D))(f=a&&-1<a.constructor.toString().indexOf(\"Object\")&&c&&-1<c.constructor.toString().indexOf(\"String\")&&h&&-1<h.constructor.toString().indexOf(\"String\"))||L++;f&&(d.count&&d.count(\"Event:\"+h,1),a.producerId=a.producerId||c,a.schemaId=a.schemaId||h,a.timestamp=K(),c=Date.now?Date.now():+new Date,h=Math.random().toString().substring(2,12),a.messageId=b.ue_id+\"-\"+c+\"-\"+h,g&&!g.ssd&&(a.sessionId=a.sessionId||b.ue_sid,a.requestId=a.requestId||b.ue_id,a.obfuscatedMarketplaceId=\na.obfuscatedMarketplaceId||b.ue_mid),(c=x(a))?(c=c.length,(e.length==M||q+c>N)&&m(),q+=c,a={data:t.compressEvent(a)},e.push(a),(g||{}).n?0===E?m():u||(u=k.setTimeout(m,E)):v||(v=k.setTimeout(m,O)),p=!0):p=!1);!p&&b.ue_int&&console.error(\"Invalid JS Nexus API call\");return p}function F(){if(!G){for(var a=0;a<y.length;a++)y[a]();for(a=0;a<n.length;a++)n[a]();e.length&&(b.ue_sbuimp&&b.ue&&b.ue.ssw&&(a=x({dct:l,evt:e}),b.ue.ssw(\"eeldata\",a),b.ue.ssw(\"eelsts\",\"unk\")),A(d._sBcn||{}));G=!0}}function H(a){y.push(a)}\nfunction I(a){n.push(a)}var D=1E3,M=499,N=524288,s=function(){},d=b.ue||{},B=d.log||s,P=b.uex||s;(b.uet||s)(\"bb\",\"ue_sushi_v1\",{wb:1});var J=b.ue_surl||\"https://unagi-na.amazon.com/1/events/com.amazon.csm.nexusclient.gamma\",Q=[\"messageId\",\"timestamp\"],z=\"#\",e=[],f={},l={},q=0,w=0,L=0,r=0,y=[],n=[],G=!1,u,v,E=void 0===b.ue_hpsi?1E3:b.ue_hpsi,O=void 0===b.ue_lpsi?1E4:b.ue_lpsi,t=function(){function a(a){f[a]=z+w++;l[f[a]]=a;return f[a]}function c(b){if(!(b instanceof Function)){if(b instanceof Array){for(var g=\n[],d=b.length,e=0;e<d;e++)g[e]=c(b[e]);return g}if(b instanceof Object){g={};for(d in b)b.hasOwnProperty(d)&&(g[f[d]?f[d]:a(d)]=-1===Q.indexOf(d)?c(b[d]):b[d]);return g}return\"string\"===typeof b&&(b.length>(z+w).length||b.charAt(0)===z)?f[b]?f[b]:a(b):b}}return{compressEvent:c,buildPayload:function(){return x({cs:{dct:l},events:e})}}}();(function(){if(d.event&&d.event.isStub){if(b.ue_sbuimp&&b.ue&&b.ue.ssw){var a=b.ue.ssw(\"eelsts\").val;if(a&&\"unk\"===a&&(a=b.ue.ssw(\"eeldata\").val)){var c;a:{try{c=\nJSON.parse(a);break a}catch(f){}c=null}c&&c.evt instanceof Array&&c.dct instanceof Object&&(e=c.evt,l=c.dct,e&&l&&(m(),b.ue.ssw(\"eeldata\",\"{}\"),b.ue.ssw(\"eelsts\",\"scs\")))}}d.event.replay(function(a){a[3]=a[3]||{};a[3].n=1;C.apply(this,a)});d.onSushiUnload.replay(function(a){H(a[0])});d.onSushiFlush.replay(function(a){I(a[0])})}})();d.attach(\"beforeunload\",F);d.attach(\"pagehide\",F);d._cmps=t;d.event=C;d.event.reset=function(){r=0};d.onSushiUnload=H;d.onSushiFlush=I;try{k.P&&k.P.register&&k.P.register(\"sushi-client\",\ns)}catch(R){b.ueLogError(R,{logLevel:\"WARN\"})}P(\"ld\",\"ue_sushi_v1\",{wb:1})},\"Nxs-JS-Client\")(ue_csm,window);\n\n\nue_csm.ue_unrt = 1500;\n(function(d,b,t){function u(a,b){var c=a.srcElement||a.target||{},e={k:w,t:b.t,dt:b.dt,x:a.pageX,y:a.pageY,p:f.getXPath(c),n:c.nodeName};a.button&&(e.b=a.button);c.type&&(e.ty=c.type);c.href&&(e.r=f.extractStringValue(c.href));c.id&&(e.i=c.id);c.className&&c.className.split&&(e.c=c.className.split(/\\s+/));g+=1;f.getFirstAscendingWidget(c,function(a){e.wd=a;d.ue.log(e,r)})}function x(a){if(!y(a.srcElement||a.target)){k+=1;n=!0;var v=h=d.ue.d(),c;p&&\"function\"===typeof p.now&&a.timeStamp&&(c=p.now()-\na.timeStamp,c=parseFloat(c.toFixed(2)));s=b.setTimeout(function(){u(a,{t:v,dt:c})},z)}}function A(a){if(a){var b=a.filter(B);a.length!==b.length&&(q=!0,l=d.ue.d(),n&&q&&(l&&h&&d.ue.log({k:C,t:h,m:Math.abs(l-h)},r),m(),q=!1,l=0))}}function B(a){if(!a)return!1;var b=\"characterData\"===a.type?a.target.parentElement:a.target;if(!b||!b.hasAttributes||!b.attributes)return!1;var c={\"class\":\"gw-clock gw-clock-aria s-item-container-height-auto feed-carousel using-mouse kfs-inner-container\".split(\" \"),id:[\"dealClock\",\n\"deal_expiry_timer\",\"timer\"],role:[\"timer\"]},e=!1;Object.keys(c).forEach(function(a){var d=b.attributes[a]?b.attributes[a].value:\"\";(c[a]||\"\").forEach(function(a){-1!==d.indexOf(a)&&(e=!0)})});return e}function y(a){if(!a)return!1;var b=(f.extractStringValue(a.nodeName)||\"\").toLowerCase(),c=(f.extractStringValue(a.type)||\"\").toLowerCase(),d=(f.extractStringValue(a.href)||\"\").toLowerCase();a=(f.extractStringValue(a.id)||\"\").toLowerCase();var g=\"checkbox color date datetime-local email file month number password radio range reset search tel text time url week\".split(\" \");\nif(-1!==[\"select\",\"textarea\",\"html\"].indexOf(b)||\"input\"===b&&-1!==g.indexOf(c)||\"a\"===b&&-1!==d.indexOf(\"http\")||-1!==[\"sitbreaderrightpageturner\",\"sitbreaderleftpageturner\",\"sitbreaderpagecontainer\"].indexOf(a))return!0}function m(){n=!1;h=0;b.clearTimeout(s)}function D(){b.ue.onSushiUnload(function(){ue.event({violationType:\"unresponsive-clicks\",violationCount:g,totalScanned:k},\"csm\",\"csm.ArmoredCXGuardrailsViolation.3\")});b.ue.onunload(function(){ue.count(\"armored-cxguardrails.unresponsive-clicks.violations\",\ng);ue.count(\"armored-cxguardrails.unresponsive-clicks.violationRate\",g/k*100||0)})}if(b.MutationObserver&&b.addEventListener&&Object.keys&&d&&d.ue&&d.ue.log&&d.ue_unrt&&d.ue_utils){var z=d.ue_unrt,r=\"cel\",w=\"unr_mcm\",C=\"res_mcm\",p=b.performance,f=d.ue_utils,n=!1,h=0,s=0,q=!1,l=0,g=0,k=0;b.addEventListener&&(b.addEventListener(\"mousedown\",x,!0),b.addEventListener(\"beforeunload\",m,!0),b.addEventListener(\"visibilitychange\",m,!0),b.addEventListener(\"pagehide\",m,!0));b.ue&&b.ue.event&&b.ue.onSushiUnload&&\nb.ue.onunload&&D();(new MutationObserver(A)).observe(t,{childList:!0,attributes:!0,characterData:!0,subtree:!0})}})(ue_csm,window,document);\n\n\nue_csm.ue.exec(function(g,e){if(e.ue_err){var f=\"\";e.ue_err.errorHandlers||(e.ue_err.errorHandlers=[]);e.ue_err.errorHandlers.push({name:\"fctx\",handler:function(a){if(!a.logLevel||\"FATAL\"===a.logLevel)if(f=g.getElementsByTagName(\"html\")[0].innerHTML){var b=f.indexOf(\"var ue_t0=ue_t0||+new Date();\");if(-1!==b){var b=f.substr(0,b).split(String.fromCharCode(10)),d=Math.max(b.length-10-1,0),b=b.slice(d,b.length-1);a.fcsmln=d+b.length+1;a.cinfo=a.cinfo||{};for(var c=0;c<b.length;c++)a.cinfo[d+c+1+\"\"]=\nb[c]}b=f.split(String.fromCharCode(10));a.cinfo=a.cinfo||{};if(!(a.f||void 0===a.l||a.l in a.cinfo))for(c=+a.l-1,d=Math.max(c-5,0),c=Math.min(c+5,b.length-1);d<=c;d++)a.cinfo[d+1+\"\"]=b[d]}}})}},\"fatals-context\")(document,window);\n\n\n(function(m,a){function c(k){function f(b){b&&\"string\"===typeof b&&(b=(b=b.match(/^(?:https?:)?\\/\\/(.*?)(\\/|$)/i))&&1<b.length?b[1]:null,b&&b&&(\"number\"===typeof e[b]?e[b]++:e[b]=1))}function d(b){var e=10,d=+new Date;b&&b.timeRemaining?e=b.timeRemaining():b={timeRemaining:function(){return Math.max(0,e-(+new Date-d))}};for(var c=a.performance.getEntries(),k=e;g<c.length&&k>n;)c[g].name&&f(c[g].name),g++,k=b.timeRemaining();g>=c.length?h(!0):l()}function h(b){if(!b){b=m.scripts;var c;if(b)for(var d=\n0;d<b.length;d++)(c=b[d].getAttribute(\"src\"))&&\"undefined\"!==c&&f(c)}0<Object.keys(e).length&&(p&&ue_csm.ue&&ue_csm.ue.event&&ue_csm.ue.event({domains:e,pageType:a.ue_pty||null,subPageType:a.ue_spty||null,pageTypeId:a.ue_pti||null},\"csm\",\"csm.CrossOriginDomains.2\"),a.ue_ext=e)}function l(){!0===k?d():a.requestIdleCallback?a.requestIdleCallback(d):a.requestAnimationFrame?a.requestAnimationFrame(d):a.setTimeout(d,100)}function c(){if(a.performance&&a.performance.getEntries){var b=a.performance.getEntries();\n!b||0>=b.length?h(!1):l()}else h(!1)}var e=a.ue_ext||{};a.ue_ext||c();return e}function q(){setTimeout(c,r)}var s=a.ue_dserr||!1,p=!0,n=1,r=2E3,g=0;a.ue_err&&s&&(a.ue_err.errorHandlers||(a.ue_err.errorHandlers=[]),a.ue_err.errorHandlers.push({name:\"ext\",handler:function(a){if(!a.logLevel||\"FATAL\"===a.logLevel){var f=c(!0),d=[],h;for(h in f){var f=h,g=f.match(/amazon(\\.com?)?\\.\\w{2,3}$/i);g&&1<g.length||-1!==f.indexOf(\"amazon-adsystem.com\")||-1!==f.indexOf(\"amazonpay.com\")||-1!==f.indexOf(\"cloudfront-labs.amazonaws.com\")||\nd.push(h)}a.ext=d}}}));a.ue&&a.ue.isl?c():a.ue&&ue.attach&&ue.attach(\"load\",q)})(document,window);\n\n\n\n\n\nvar ue_wtc_c = 3;\nue_csm.ue.exec(function(b,e){function l(){for(var a=0;a<f.length;a++)a:for(var d=s.replace(A,f[a])+g[f[a]]+t,c=arguments,b=0;b<c.length;b++)try{c[b].send(d);break a}catch(e){}g={};f=[];n=0;k=p}function u(){B?l(q):l(C,q)}function v(a,m,c){r++;if(r>w)d.count&&1==r-w&&(d.count(\"WeblabTriggerThresholdReached\",1),b.ue_int&&console.error(\"Number of max call reached. Data will no longer be send\"));else{var h=c||{};h&&-1<h.constructor.toString().indexOf(D)&&a&&-1<a.constructor.toString().indexOf(x)&&m&&-1<\nm.constructor.toString().indexOf(x)?(h=b.ue_id,c&&c.rid&&(h=c.rid),c=h,a=encodeURIComponent(\",wl=\"+a+\"/\"+m),2E3>a.length+p?(2E3<k+a.length&&u(),void 0===g[c]&&(g[c]=\"\",f.push(c)),g[c]+=a,k+=a.length,n||(n=e.setTimeout(u,E))):b.ue_int&&console.error(\"Invalid API call. The input provided is over 2000 chars.\")):d.count&&(d.count(\"WeblabTriggerImproperAPICall\",1),b.ue_int&&console.error(\"Invalid API call. The input provided does not match the API protocol i.e ue.trigger(String, String, Object).\"))}}function F(){d.trigger&&\nd.trigger.isStub&&d.trigger.replay(function(a){v.apply(this,a)})}function y(){z||(f.length&&l(q),z=!0)}var t=\":1234\",s=\"//\"+b.ue_furl+\"/1/remote-weblab-triggers/1/OE/\"+b.ue_mid+\":\"+b.ue_sid+\":PLCHLDR_RID$s:wl-client-id%3DCSMTriger\",A=\"PLCHLDR_RID\",E=b.wtt||1E4,p=s.length+t.length,w=b.mwtc||2E3,G=1===e.ue_wtc_c,B=3===e.ue_wtc_c,H=e.XMLHttpRequest&&\"withCredentials\"in new e.XMLHttpRequest,x=\"String\",D=\"Object\",d=b.ue,g={},f=[],k=p,n,z=!1,r=0,C=function(){return{send:function(a){if(H){var b=new e.XMLHttpRequest;\nb.open(\"GET\",a,!0);G&&(b.withCredentials=!0);b.send()}else throw\"\";}}}(),q=function(){return{send:function(a){(new Image).src=a}}}();e.encodeURIComponent&&(d.attach&&(d.attach(\"beforeunload\",y),d.attach(\"pagehide\",y)),F(),d.trigger=v)},\"client-wbl-trg\")(ue_csm,window);\n\n\n(function(k,d,h){function f(a,c,b){a&&a.indexOf&&0===a.indexOf(\"http\")&&0!==a.indexOf(\"https\")&&l(s,c,a,b)}function g(a,c,b){a&&a.indexOf&&(location.href.split(\"#\")[0]!=a&&null!==a&&\"undefined\"!==typeof a||l(t,c,a,b))}function l(a,c,b,e){m[b]||(e=u&&e?n(e):\"N/A\",d.ueLogError&&d.ueLogError({message:a+c+\" : \"+b,logLevel:v,stack:\"N/A\"},{attribution:e}),m[b]=1,p++)}function e(a,c){if(a&&c)for(var b=0;b<a.length;b++)try{c(a[b])}catch(d){}}function q(){return d.performance&&d.performance.getEntriesByType?\nd.performance.getEntriesByType(\"resource\"):[]}function n(a){if(a.id)return\"//*[@id='\"+a.id+\"']\";var c;c=1;var b;for(b=a.previousSibling;b;b=b.previousSibling)b.nodeName==a.nodeName&&(c+=1);b=a.nodeName;1!=c&&(b+=\"[\"+c+\"]\");a.parentNode&&(b=n(a.parentNode)+\"/\"+b);return b}function w(){var a=h.images;a&&a.length&&e(a,function(a){var b=a.getAttribute(\"src\");f(b,\"img\",a);g(b,\"img\",a)})}function x(){var a=h.scripts;a&&a.length&&e(a,function(a){var b=a.getAttribute(\"src\");f(b,\"script\",a);g(b,\"script\",a)})}\nfunction y(){var a=h.styleSheets;a&&a.length&&e(a,function(a){if(a=a.ownerNode){var b=a.getAttribute(\"href\");f(b,\"style\",a);g(b,\"style\",a)}})}function z(){if(A){var a=q();e(a,function(a){f(a.name,a.initiatorType)})}}function B(){e(q(),function(a){g(a.name,a.initiatorType)})}function r(){var a;a=d.location&&d.location.protocol?d.location.protocol:void 0;\"https:\"==a&&(z(),w(),x(),y(),B(),p<C&&setTimeout(r,D))}var s=\"[CSM] Insecure content detected \",t=\"[CSM] Ajax request to same page detected \",v=\"WARN\",\nm={},p=0,D=k.ue_nsip||1E3,C=5,A=1==k.ue_urt,u=!0;ue_csm.ue_disableNonSecure||(d.performance&&d.performance.setResourceTimingBufferSize&&d.performance.setResourceTimingBufferSize(300),r())})(ue_csm,window,document);\n\n\nvar ue_aa_a = \"\";\nif (ue.trigger && (ue_aa_a === \"C\" || ue_aa_a === \"T1\")) {\n    ue.trigger(\"UEDATA_AA_SERVERSIDE_ASSIGNMENT_CLIENTSIDE_TRIGGER_190249\", ue_aa_a);\n}\n(function(f,b){function g(){try{b.PerformanceObserver&&\"function\"===typeof b.PerformanceObserver&&(a=new b.PerformanceObserver(function(b){c(b.getEntries())}),a.observe(d))}catch(h){k()}}function m(){for(var h=d.entryTypes,a=0;a<h.length;a++)c(b.performance.getEntriesByType(h[a]))}function c(a){if(a&&Array.isArray(a)){for(var c=0,e=0;e<a.length;e++){var d=l.indexOf(a[e].name);if(-1!==d){var g=Math.round(b.performance.timing.navigationStart+a[e].startTime);f.uet(n[d],void 0,void 0,g);c++}}l.length===\nc&&k()}}function k(){a&&a.disconnect&&\"function\"===typeof a.disconnect&&a.disconnect()}if(\"function\"===typeof f.uet&&b.performance&&\"object\"===typeof b.performance&&b.performance.getEntriesByType&&\"function\"===typeof b.performance.getEntriesByType&&b.performance.timing&&\"object\"===typeof b.performance.timing&&\"number\"===typeof b.performance.timing.navigationStart){var d={entryTypes:[\"paint\"]},l=[\"first-paint\",\"first-contentful-paint\"],n=[\"fp\",\"fcp\"],a;try{m(),g()}catch(p){f.ueLogError(p,{logLevel:\"ERROR\",\nattribution:\"performanceMetrics\"})}}})(ue_csm,window);\n\n\nif (window.csa) {\n    csa(\"Events\")(\"setEntity\", {\n        page:{pageType: \"Detail\", subPageType: \"Glance\", pageTypeId: \"B073Q5R6VR\"}\n    });\n}\ncsa.plugin(function(i){var s,e=\"CacheDetection\",n=\"csa-cache\",u=\"onsuccess\",d=\"target\",p=\"result\",l=\"exp\",f=i.exec,c=i.config,g=c[e+\".RequestID\"],v=c[e+\".Callback\"],h=c[e+\".EnableCallback\"],I=1,t=i.global,r=t.document||{},a=t.indexedDB,x=t.IDBKeyRange,b=i(\"Events\"),C=i(\"Events\",{producerId:\"csa\"});if(a&&x)try{var o=a.open(n);o.onupgradeneeded=f(function(e){e[d][p].createObjectStore(n).createIndex(l,l)}),o[u]=f(function(e){var o=e[d][p].transaction(n,\"readwrite\").objectStore(n);o.get(g)[u]=f(function(e){var n=D(\"session-id\"),c=function(e){var n=D(\"cdn-rid\");if(n)return{r:n,s:\"cdn\"};if(e)return{r:i.UUID().toUpperCase().replace(/-/g,\"\").slice(0,20),s:\"device\"}}(e[d][p])||{},t=c.r,r=c.s,a=!!t;!function(e){var n=Date.now(),c=x.upperBound(n);e.index(l).openCursor(c)[u]=f(function(e){var n=e[d][p];n&&(n.delete(),n.continue())}),e.put({exp:n+60*I*60*1e3},g)}(o),function(e,n,c){b(\"setEntity\",{page:{requestId:e||g,cacheRequestId:n?g:s,pageSource:n?\"cache\":\"origin\"},session:{id:c}}),n&&C(\"log\",{schemaId:\"csa.CacheImpression.1\"},{full:1})}(t,a,n),a&&h&&v&&v(t,n,r)})})}catch(e){}function D(e){try{var n=r.cookie.match(RegExp(\"(^| )\"+e+\"=([^;]+)\"));return n&&n[2].trim()}catch(e){}}});csa.plugin(function(c){var r,n,t=\"Content\",e=\"IntersectionObserver\",i=\"MutationObserver\",o=\"requestAnimationFrame\",s=\"addedNodes\",u=\"querySelectorAll\",a=\"getAttributeNames\",f=\"getAttribute\",m=\"type\",l=\"widget\",d=\"target\",h=\"intersectionRatio\",g={},v=c.config[t+\".Selectors\"]||[],p=c.config[t+\".WhitelistedAttributes\"]||{href:1,class:1},b=\"data-csa-c-\",E=5,I=c.config[t+\".ImpressionMinimumTime\"]||1e3,y=c.config[t+\".InstrumentLinks\"],w=c.config[t+\".EnableContentEntities\"],A=c.global,T=A.document,C=((T&&T.performance||{}).timing||{}).navigationStart||c.time(),k={},F=[];function O(t,e,i){F.push({n:i,e:t,t:e}),V()}function S(){for(var t=c.time(),e=0;0<F.length;){var i=F.shift();if(g[i.n](i.e,i.t),++e%10==0&&c.time()-t>E)break}n=0,F.length&&V()}function V(){n=n||A[o](S)}function q(t,e,i){return{n:t,e:e,t:i}}function L(t){if(t&&t[f])return k[t[f](b+\"id\")]}function M(t){t&&(t.v=1,function(t){t.vt=c.time(),t.e(\"log\",{schemaId:\"csa.ContentView.2\",timeToViewed:t.vt-t.rt,pageFirstPaintToElementViewed:t.vt-C},{full:{element:1}})}(t))}function N(t){t&&!t.it&&(t.i=c.time()-t.is>I,function(t){t.it=c.time(),t.e(\"log\",{schemaId:\"csa.ContentImpressed.2\",timeToImpressed:t.it-t.rt,pageFirstPaintToElementImpressed:t.it-C},{full:{element:1}})}(t))}function P(e,i){a in i&&(i[a]()||[]).forEach(function(t){t.indexOf(b)||(e[t.slice(b.length)]=i[f](t)),t in p&&(e[t]=i[f](t))})}T&&A[o]&&T[u]&&A[e]&&A[i]&&(v.push({selector:\"*[data-csa-c-type]\",entity:P}),y&&v.push({selector:\"a\",entity:function(t,e){P(t,e),t.type=\"link\"}}),v.push({selector:\".celwidget\",entity:function(t,e){P(t,e),t.slotid=e.getAttribute(\"cel_widget_id\")||e.id,t.type=l}}),g[1]=function(t,e){t.forEach(function(t){s in t&&t[s].forEach(function(t){F.unshift(q(2,t,e))})})},g[2]=function(o,s){u in o&&v.forEach(function(t){var e=o.matches(t.selector),i=o[u](t.selector);e&&F.unshift(q(3,{e:o,s:t},s));for(var n=0;n<i.length;n++)F.unshift(q(3,{e:i[n],s:t},s))})},g[3]=function(t,e){var i=t.e;if(!L(i[d])){var n=c.UUID(),o=c(\"Events\",{producerId:\"csa\"}),s={};w&&(s.schemaId=\"csa.ContentEntity.2\"),t.s.entity(s,i),i.setAttribute(b+\"id\",n),s[m]=s[m]||l,k[n]={e:o,rt:e,v:0,i:0,is:0,vt:0,it:0},o(\"setEntity\",{element:s}),w&&o(\"log\",{schemaId:\"csa.ContentRender.1\",timestamp:e},{full:{element:1}}),r.observe(i)}},r=new A[e](function(t){t.forEach(function(t){var e=L(t[d]);t.isIntersecting&&(!e.v&&w&&M(e),.5<=t[h]&&!e.is&&(e.is=c.time(),e.timer=A.setTimeout(N.bind(this,e),I))),t[h]<.5&&!e.it&&e.timer&&(A.clearTimeout(e.timer),e.is=0,e.timer=0)})},{threshold:[0,.5]}),new A[i](function(t){O(t,c.time(),1)}).observe(T.documentElement,{childList:!0,subtree:!0}),O(T.documentElement,c.time(),2))});\n\n\n\n\n\n\n\n\n\n}\n/* ◬ */\n</script>\n\n</div>\n\n<noscript>\n    <img height=\"1\" width=\"1\" style='display:none;visibility:hidden;' src='//fls-eu.amazon.in/1/batch/1/OP/A21TJRUUN4KGV:262-6498413-3469062:K3JSBFST79M8N1SZ83EV$uedata=s:%2Fgp%2Fuedata%3Fnoscript%26id%3DK3JSBFST79M8N1SZ83EV:0' alt=\"\"/>\n</noscript>\n</div></body></html>\n<!--       _\n       .__(.)< (MEOW)\n        \\___)   \n ~~~~~~~~~~~~~~~~~~-->\n<!-- sp:eh:OqOA1qjlLuXO8jw/8ileV2UdYVna3iDGVt912JQx14+WRis1yP3KK0+nEMb7UkKQQR2m+4dphZnDwPA6/tPTJYQVtgXO9p2j4HVv/fxSVK7L3KCcAgWHKA== -->\n\n"
    }
   ],
   "source": [
    "url = 'https://www.amazon.in/Apple-MacBook-Air-13-3-inch-MQD32HN/dp/B073Q5R6VR/ref=sr_1_2?crid=2KAT2XKMTR4IP&keywords=macbook+pro&qid=1585754146&sprefix=macbook%2Caps%2C286&sr=8-2'\n",
    "\n",
    "response = requests.get(url, headers=headers)\n",
    "\n",
    "print(response.text)"
   ]
  },
  {
   "cell_type": "code",
   "execution_count": 10,
   "metadata": {},
   "outputs": [],
   "source": [
    "soup = BeautifulSoup(response.content, features=\"lxml\")"
   ]
  },
  {
   "cell_type": "code",
   "execution_count": 11,
   "metadata": {},
   "outputs": [
    {
     "output_type": "stream",
     "name": "stdout",
     "text": "Apple MacBook Air (13-inch, 8GB RAM, 128GB Storage, 1.8GHz Intel Core i5) - Silver\n"
    }
   ],
   "source": [
    "title = soup.select(\"#productTitle\")[0].get_text().strip()\n",
    "print(title)"
   ]
  },
  {
   "cell_type": "code",
   "execution_count": 13,
   "metadata": {},
   "outputs": [
    {
     "output_type": "stream",
     "name": "stdout",
     "text": "2,344\n"
    }
   ],
   "source": [
    "review_count = soup.select(\"#acrCustomerReviewText\")[0].get_text().split()[0]\n",
    "print(review_count)"
   ]
  },
  {
   "cell_type": "code",
   "execution_count": 30,
   "metadata": {},
   "outputs": [
    {
     "output_type": "stream",
     "name": "stdout",
     "text": "\nShowroom price - 99990/-Seller price - 89990/- 👍👍Amazon exchange (2011 MacBook Pro) - 12100/-Final price - 78890/-Genuine 2019 product sold by seller Appario Retail Pvt Ltd 👍👍Early delivery and hassle free pick up of exchange by amazon 👍👍Now coming to the productSuper fast speedAmazing displayKeyboard and touch pad functions smooth as everFinal verdict - just go for it\n\n\n\nBuild quality-top notchBattery- greatPerformance-smoothDisplay-goodTrack pad - awesomeNew True Tone display- helpful in readingNew keyboard- quieter than previous onesWhat else do u need...It’s apple , go for it\n\n\n\nI loved it, it's just awesome 😍😍😍\n\n\n\nJFYI : 2018 model, had retina display. 2019 model has added true tone display, updated butterfly keyboard, and most importantly, a more affordable price tag. The 256GB model you see here,,, is actually the 2018 model and still a great deal a the current price tag of 90000/-. But it's still great and of course offers more space.UPDATE 26-01-2020 : It gets really warm/hot within a short amount of time. A cooling pad with fans) under it does not seem to help much.  Apple has used a ultra low power Y series CPU and not the low powered U series from Intel as in previous generations. Probably because there is a trade off in keeping battery life similar with Retina screen using more energy. Doesn't make it bad, but probably more a parallel update in CPU then most of us had hoped. Yep for a bit more you can buy the base MacBook Pro and get a Quad core U series now, if you need that extra CPU power. Otherwise, the MBA is plenty for most people's daily uses.This is a high quality apple laptop. This is the third Mac laptop I've owned-- I like this much more than my last, more powerful MacBook pro. I bought this for my programming needs as I wanted a sleek and user friendly product and this accommodates everything I need with ease.-13\" screen size-2560 x 1600 Retina display with True Tone-1.6 GHz 8th-gen dual-core i5 processor-Up to 1 TB SSD-Touch ID-Thunderbolt 3-Upgraded butterfly keyboard-Lower price than previous genI feel obligated to write this because other reviewers are leaving reviews of older models they didn't even purchase this calendar year, which is just not right and irresponsible considering how dependent people are on these reviews.If you want a cheaper option, they're out there but if you want Apple quality and don't mind the extra money or being forced into usb C, which I think is a step up from the magnetic adapters (and is a generic for), then you aren't going to be disappointed.I hope it helps.\n\n\n\nI upgraded from a 2013 MacBook Air. Seems like a pretty neat upgrade. Sleeker, and compact compared to the old one (photo attached). A few reviews on YouTube complain about the key travel in the new keyboard. In my opinion, I feel that 1 person complained, and everyone else joined the bandwagon. Typing on this, actually doesn't feel any bad, and won't feel any bad for majority of the people. In fact, I enjoy typing on this, as it feels more \"crunchy\". The Touch ID is very useful!Overall a good buy. But reduced 1 star because apple upgraded the MacBook Air from 2018, but didn't bump up the processor speed. They just changed the keyboard, added True Tone, and dropped the price by a bit. Also, I feel that it is 'wrong' on apple's part to still keep selling 128GB SSD on the base model (it should be at least 256GB for the base model, and 512GB for the next). I got the 128GB model because the 256GB model is a LOT more costlier. Would make a lot of sense to just get a micro SD card of 128GB or 256GB (can save a lot of money this way).\n\n\n\nOverall good purchase, I am satisfied with it.Pros:1. Fast speed2. Good battery backup3. Great user interface and touchpad4. Better integration with iPhone if you have.Cons:1. With only two USB C ports be ready to buy USB-C Multimedia Hub for 7000/8000 rupees, if you want to use external hdmi monitor or connect any old USB 2.0/3.0 device or traditional LAN cable.2. Charging is slow with the provided 30W charger.3. Without wearing shoes or slippers don't touch it when it is connected with charger, you will get minor shock which is like earth current.4. Takes very long time to install major updates.5. Poor webcam quality\n\n\n\nThe laptop has got good specifications and is easy to use.The keyboard also works fine.I like the adjustable backlit display a lot.Finger print lock helps a lot.\n\n\n"
    }
   ],
   "source": [
    "def get_reviews(s,url):\n",
    "    s.headers['User-Agent'] = 'Mozilla/5.0'\n",
    "    response = s.get(url)\n",
    "    soup = BeautifulSoup(response.text,\"lxml\")\n",
    "    return soup.find_all(\"div\",{\"data-hook\":\"review-collapsed\"})\n",
    "\n",
    "if __name__ == '__main__':\n",
    "    link = 'https://www.amazon.in/dp/B07V5PK8NT?ref=ods_ucc_kindle_B07V5PK8NT_nrc_ucc'    \n",
    "    with requests.Session() as s:\n",
    "        for review in get_reviews(s,link):\n",
    "            print(f'{review.text}\\n')"
   ]
  },
  {
   "cell_type": "code",
   "execution_count": 29,
   "metadata": {
    "tags": [
     "outputPrepend"
    ]
   },
   "outputs": [
    {
     "output_type": "error",
     "ename": "AttributeError",
     "evalue": "'list' object has no attribute 'get_text'",
     "traceback": [
      "\u001b[1;31m---------------------------------------------------------------------------\u001b[0m",
      "\u001b[1;31mAttributeError\u001b[0m                            Traceback (most recent call last)",
      "\u001b[1;32m<ipython-input-29-70ddb57af387>\u001b[0m in \u001b[0;36m<module>\u001b[1;34m\u001b[0m\n\u001b[1;32m----> 1\u001b[1;33m \u001b[0mreview\u001b[0m \u001b[1;33m=\u001b[0m \u001b[0msoup\u001b[0m\u001b[1;33m.\u001b[0m\u001b[0mselect\u001b[0m\u001b[1;33m(\u001b[0m\u001b[1;34m\"div\"\u001b[0m\u001b[1;33m,\u001b[0m\u001b[1;33m{\u001b[0m\u001b[1;34m\"data-hook\"\u001b[0m\u001b[1;33m:\u001b[0m\u001b[1;34m\"review-collapsed\"\u001b[0m\u001b[1;33m}\u001b[0m\u001b[1;33m)\u001b[0m\u001b[1;33m.\u001b[0m\u001b[0mget_text\u001b[0m\u001b[1;33m(\u001b[0m\u001b[1;33m)\u001b[0m\u001b[1;33m.\u001b[0m\u001b[0mstrip\u001b[0m\u001b[1;33m(\u001b[0m\u001b[1;33m)\u001b[0m\u001b[1;33m\u001b[0m\u001b[1;33m\u001b[0m\u001b[0m\n\u001b[0m\u001b[0;32m      2\u001b[0m \u001b[0mprint\u001b[0m\u001b[1;33m(\u001b[0m\u001b[0mreview\u001b[0m\u001b[1;33m)\u001b[0m\u001b[1;33m\u001b[0m\u001b[1;33m\u001b[0m\u001b[0m\n",
      "\u001b[1;31mAttributeError\u001b[0m: 'list' object has no attribute 'get_text'"
     ]
    }
   ],
   "source": [
    "def get_reviews(s,url):\n",
    "    s.headers['User-Agent'] = 'Mozilla/5.0'\n",
    "    response = s.get(url)\n",
    "    soup = BeautifulSoup(response.text,\"lxml\")\n",
    "    return soup.find_all(\"div\",{\"data-hook\":\"review-collapsed\"})\n",
    "\n",
    "if __name__ == '__main__':\n",
    "    link = 'https://www.amazon.in/dp/B07V5PK8NT?ref=ods_ucc_kindle_B07V5PK8NT_nrc_ucc'    \n",
    "    with requests.Session() as s:\n",
    "        for review in get_reviews(s,link):\n",
    "            print(f'{review.text}\\n')"
   ]
  },
  {
   "cell_type": "code",
   "execution_count": 62,
   "metadata": {
    "tags": [
     "outputPrepend"
    ]
   },
   "outputs": [],
   "source": [
    "url = 'https://www.flipkart.com/asus-zenfone-2-laser-ze550kl-black-16-gb/product-reviews/itme9j58yzyzqzgc?pid=MOBE9J587QGMXBB7'\n",
    "\n",
    "response = requests.get(url, headers=headers)\n",
    "soup = BeautifulSoup(response.content, features=\"lxml\")"
   ]
  },
  {
   "cell_type": "code",
   "execution_count": 28,
   "metadata": {},
   "outputs": [],
   "source": [
    "url = 'https://www.flipkart.com/apple-iphone-11-pro-max-silver-512-gb/product-reviews/itmd4aeaf1585645?pid=MOBFKCTSGQWSAKDG&lid=LSTMOBFKCTSGQWSAKDGBKDFSB&marketplace=FLIPKART'\n",
    "\n",
    "response = requests.get(url, headers=headers)\n",
    "soup = BeautifulSoup(response.content, features=\"lxml\")\n",
    ""
   ]
  },
  {
   "cell_type": "code",
   "execution_count": 29,
   "metadata": {},
   "outputs": [
    {
     "output_type": "stream",
     "name": "stdout",
     "text": "Battery - more or less 2 daysCamera - can now perform very good in low light (night )Heating- no heating for 15+ daysCharging- Quick charger ( which now comes in box ) charges 1-80 in less than an hour. The next 20 requires next 25 mins or so.READ MORE\nI had doubts about getting an iPhone from online stores/e-commerce, but bought this anyway on 24/10 and got it by 28/10. About the iPhone ,well there’s nothing new we could say about apple products- High standards,New iOS updates every year,built quality. In 11 pro max Camera, the new A13 bionic chip,Battery are the highlights. I was never worried about the phone or had any doubts about it’s performance. These are few shots that I’ve taken since I got this iPhone. It’s been  only 2 days so co...READ MORE\nIt’s a beast, what a device... in love with itREAD MORE\nGreat purchase, happily upgraded to iPhone 11 pro max and I’m quite satisfied with the performance of the phone :))READ MORE\nNice very good phoneREAD MORE\nimpressively Nice......One of the greatest iPhone i ever used ....All was like Never before ...it's just Amazing ...Battery Life is too good ...2 Days with hevy usedCamera also like Apple Quality best everREAD MORE\nJust Awesome, For Night mode in camera no one can beat Iphone, performance super fast, portraits mono mode just ossm, Even in battery backup is now improved than previous iphone,  in the box ,apple gives Fast charger 👌🏻👌🏻👌🏻READ MORE\nCamera and battery life s the best in this iPhone.. the os 13 very fluid .. one of the best products for AppleREAD MORE\nfully satisfied....shandar phone...READ MORE\nfast service by Flipkart .  iPhone name is enough.. except price matters..its 1st class performanceREAD MORE\n"
    }
   ],
   "source": [
    "#Review Text\n",
    "review = soup.find_all(\"div\", class_=\"qwjRop\")\n",
    "for tag in review:\n",
    "    print(tag.text)\n"
   ]
  },
  {
   "cell_type": "code",
   "execution_count": 49,
   "metadata": {},
   "outputs": [
    {
     "output_type": "stream",
     "name": "stdout",
     "text": "Highly recommended\nBrilliant\nMust buy!\nWorth every penny\nTerrific purchase\nGood quality product\nWorth every penny\nMust buy!\nFabulous!\nExcellent\n"
    }
   ],
   "source": [
    "#Review heading\n",
    "review_heading_obj = soup.find_all(\"p\", class_=\"_2xg6Ul\")\n",
    "for words in review_heading_obj:\n",
    "    print(words.text)"
   ]
  },
  {
   "cell_type": "code",
   "execution_count": 60,
   "metadata": {},
   "outputs": [
    {
     "output_type": "stream",
     "name": "stdout",
     "text": "9\n"
    }
   ],
   "source": [
    "#Get total pages\n",
    "total_pages = soup.find_all(\"div\", class_=\"_2zg3yZ _3KSYCY\")[0]\n",
    "total_pages_count = total_pages.find_all(\"span\")[0].get_text().split()[3]\n",
    "print(total_pages_count)"
   ]
  },
  {
   "cell_type": "code",
   "execution_count": 52,
   "metadata": {},
   "outputs": [
    {
     "output_type": "stream",
     "name": "stdout",
     "text": "5\n5\n5\n5\n5\n4\n5\n5\n5\n5\n"
    }
   ],
   "source": [
    "#Get star count\n",
    "star_count_obj=soup.find_all(\"div\", class_=\"hGSR34 E_uFuv\")\n",
    "for star_count in star_count_obj:\n",
    "    print(star_count.text)\n",
    ""
   ]
  },
  {
   "cell_type": "code",
   "execution_count": 79,
   "metadata": {},
   "outputs": [
    {
     "output_type": "stream",
     "name": "stdout",
     "text": "https://www.flipkart.com/apple-iphone-11-pro-max-silver-512-gb/product-reviews/itmd4aeaf1585645?pid=MOBFKCTSGQWSAKDG&lid=LSTMOBFKCTSGQWSAKDGBKDFSB&marketplace=FLIPKART&page=1\nhttps://www.flipkart.com/apple-iphone-11-pro-max-silver-512-gb/product-reviews/itmd4aeaf1585645?pid=MOBFKCTSGQWSAKDG&lid=LSTMOBFKCTSGQWSAKDGBKDFSB&marketplace=FLIPKART&page=2\nhttps://www.flipkart.com/apple-iphone-11-pro-max-silver-512-gb/product-reviews/itmd4aeaf1585645?pid=MOBFKCTSGQWSAKDG&lid=LSTMOBFKCTSGQWSAKDGBKDFSB&marketplace=FLIPKART&page=3\nhttps://www.flipkart.com/apple-iphone-11-pro-max-silver-512-gb/product-reviews/itmd4aeaf1585645?pid=MOBFKCTSGQWSAKDG&lid=LSTMOBFKCTSGQWSAKDGBKDFSB&marketplace=FLIPKART&page=4\nhttps://www.flipkart.com/apple-iphone-11-pro-max-silver-512-gb/product-reviews/itmd4aeaf1585645?pid=MOBFKCTSGQWSAKDG&lid=LSTMOBFKCTSGQWSAKDGBKDFSB&marketplace=FLIPKART&page=5\nhttps://www.flipkart.com/apple-iphone-11-pro-max-silver-512-gb/product-reviews/itmd4aeaf1585645?pid=MOBFKCTSGQWSAKDG&lid=LSTMOBFKCTSGQWSAKDGBKDFSB&marketplace=FLIPKART&page=6\nhttps://www.flipkart.com/apple-iphone-11-pro-max-silver-512-gb/product-reviews/itmd4aeaf1585645?pid=MOBFKCTSGQWSAKDG&lid=LSTMOBFKCTSGQWSAKDGBKDFSB&marketplace=FLIPKART&page=7\nhttps://www.flipkart.com/apple-iphone-11-pro-max-silver-512-gb/product-reviews/itmd4aeaf1585645?pid=MOBFKCTSGQWSAKDG&lid=LSTMOBFKCTSGQWSAKDGBKDFSB&marketplace=FLIPKART&page=8\nhttps://www.flipkart.com/apple-iphone-11-pro-max-silver-512-gb/product-reviews/itmd4aeaf1585645?pid=MOBFKCTSGQWSAKDG&lid=LSTMOBFKCTSGQWSAKDGBKDFSB&marketplace=FLIPKART&page=9\n"
    }
   ],
   "source": [
    "#URL Generator\n",
    "def get_new_url(total_pages_count):\n",
    "    total_pages_count = total_pages_count +1\n",
    "    return url+\"&page=\"+str(total_pages_count)\n",
    "\n",
    "for n in range(int(total_pages_count)):\n",
    "    print(get_new_url(n))\n",
    ""
   ]
  },
  {
   "cell_type": "code",
   "execution_count": 53,
   "metadata": {},
   "outputs": [
    {
     "output_type": "stream",
     "name": "stdout",
     "text": "Phone looking great, but performance is very very poor. Camera quality & display like 5000 rupees phone.READ MORE\nAwesome Mobile Performance And All Things In This Price SegmentREAD MORE\nHighlights after 10 days usage.Pros:1. Camera quality2. Battery3. Screen size & performance for gaming & entertainment4. Fast charge5. Value for moneyCons:1. Audio jack at bottom hence inconvenient2. Face unlock in dark (Most disappointing)Ex user of Foco F1.READ MORE\nHuge battery drain problem plz fix by software update.Otherwise the phone is great, I request POCO team to fix this battery drain problem by software update as soon as possibleREAD MORE\nfabulousREAD MORE\nReview of Poco X2,Build quality: Build quality is good side frame is aluminium and not plastic. Fingerprint scanner can be reached easily.Performance: Too good for this price(15,999) now it's increased to 16,999Pubg performance was really good like no frame drops at all. I used a GFX tool set on smooth 60fps no lag at all apart from render lag. I even played fortnite it was okay because you cannot use a gfx tool and can play it on medium 30 Fps only.UI experience: Really a smooth expe...READ MORE\nIT IS MY FIRST PHONE IN MY LIFE....AND THE DEVICE IS SPEECHLESSREAD MORE\nAmazing Product...♥️..Value for money ♥️READ MORE\nbattery performance accha hai.. fast charging 1 hours 10mint.. display color  mast hai.. rear camera 10 mese 8...aur selfie camera 10 mese 7READ MORE\nLooking so beautiful 😘😘READ MORE\n"
    }
   ],
   "source": [
    "url = 'https://www.flipkart.com/poco-x2-matrix-purple-64-gb/product-reviews/itm2db9fa45189d2?pid=MOBFZGJ6HY6H4JHU&lid=LSTMOBFZGJ6HY6H4JHU4GJFSE&marketplace=FLIPKART&page=87'\n",
    "\n",
    "response = requests.get(url, headers=headers)\n",
    "soup = BeautifulSoup(response.content, features=\"lxml\")\n",
    "\n",
    "review = soup.find_all(\"div\", class_=\"qwjRop\")\n",
    "for tag in review:\n",
    "    print(tag.text)"
   ]
  },
  {
   "cell_type": "code",
   "execution_count": 50,
   "metadata": {},
   "outputs": [],
   "source": [
    "base_url = 'https://www.flipkart.com/poco-x2-matrix-purple-64-gb/product-reviews/itm2db9fa45189d2?pid=MOBFZGJ6HY6H4JHU&lid=LSTMOBFZGJ6HY6H4JHU4GJFSE&marketplace=FLIPKART&page=87'\n",
    "response = requests.get(base_url, headers=headers)\n",
    "soup = BeautifulSoup(response.content, features=\"lxml\")"
   ]
  },
  {
   "cell_type": "code",
   "execution_count": 51,
   "metadata": {
    "tags": [
     "outputPrepend"
    ]
   },
   "outputs": [
    {
     "output_type": "stream",
     "name": "stdout",
     "text": "[1, 5, 4, 4, 5, 5, 5, 5, 4, 5]\n"
    }
   ],
   "source": [
    "from operator import add\n",
    "temp_obj = soup.find_all(\"div\", class_=\"col _390CkK _1gY8H-\")\n",
    "\n",
    "x=[]\n",
    "y=[]\n",
    "z=[]\n",
    "\n",
    "for temp in temp_obj:\n",
    "    two_star = temp.find_all(\"div\",class_=\"hGSR34 _1x2VEC E_uFuv\")\n",
    "    one_star = temp.find_all(\"div\",class_=\"hGSR34 _1nLEql E_uFuv\")\n",
    "    high_star = temp.find_all(\"div\",class_=\"hGSR34 E_uFuv\")\n",
    "\n",
    "    x.append(two_star)\n",
    "    y.append(one_star)\n",
    "    z.append(high_star)\n",
    "\n",
    "a=[]\n",
    "b=[]\n",
    "c=[]\n",
    "p=[]\n",
    "high_star_val=[]\n",
    "\n",
    "for temp in x:\n",
    "    if temp:\n",
    "        #print(\"Not empty\")\n",
    "        a.append(2)\n",
    "    else:\n",
    "        #print(\"Empty\")\n",
    "        a.append(0)\n",
    "\n",
    "for temp in y:\n",
    "    if temp:\n",
    "        b.append(1)\n",
    "    else:\n",
    "        b.append(0)\n",
    "\n",
    "for temp in z:\n",
    "    if nos:\n",
    "        p.append(temp)\n",
    "    else:\n",
    "        p.append(0)\n",
    "\n",
    "for n in p:\n",
    "    if n:\n",
    "        new_string = str(n)\n",
    "        high_star_val.append(int(new_string[28]))\n",
    "    else:\n",
    "        high_star_val.append(0)\n",
    "\n",
    "#print(high_star_val)\n",
    "\n",
    "#print(list(map(add, a, b)))\n",
    "my_val = list(map(add,a, b))\n",
    "print(list(map(add,my_val,high_star_val)))"
   ]
  },
  {
   "cell_type": "code",
   "execution_count": 18,
   "metadata": {
    "tags": [
     "outputPrepend"
    ]
   },
   "outputs": [],
   "source": [
    "k=[]\n",
    "p=[]\n",
    "\n",
    "for temp in temp_obj:\n",
    "    my_star = temp.find_all(\"div\",class_=\"hGSR34 E_uFuv\")\n",
    "    k.append(my_star)\n",
    "\n",
    "for nos in k:\n",
    "    if nos:\n",
    "        p.append(nos)\n",
    "    else:\n",
    "        p.append(0)\n",
    "    "
   ]
  },
  {
   "cell_type": "code",
   "execution_count": 31,
   "metadata": {},
   "outputs": [
    {
     "output_type": "stream",
     "name": "stdout",
     "text": "4\n5\n5\nEmpty\nEmpty\n5\n5\nEmpty\n5\n4\n"
    }
   ],
   "source": [
    "for n in p:\n",
    "    if n:\n",
    "        new_string = str(n)\n",
    "        print(new_string[28])\n",
    "    else:\n",
    "        print(\"Empty\")"
   ]
  },
  {
   "cell_type": "code",
   "execution_count": 27,
   "metadata": {},
   "outputs": [
    {
     "output_type": "stream",
     "name": "stdout",
     "text": "5\n"
    }
   ],
   "source": [
    "new_string = str(p[8])\n",
    "print(new_string[28])"
   ]
  },
  {
   "cell_type": "code",
   "execution_count": 30,
   "metadata": {},
   "outputs": [
    {
     "output_type": "stream",
     "name": "stdout",
     "text": "10\n"
    }
   ],
   "source": [
    "print(len(p))"
   ]
  }
 ]
}