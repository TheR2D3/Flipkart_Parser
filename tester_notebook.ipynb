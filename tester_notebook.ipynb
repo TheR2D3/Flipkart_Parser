{
 "nbformat": 4,
 "nbformat_minor": 2,
 "metadata": {
  "language_info": {
   "name": "python",
   "codemirror_mode": {
    "name": "ipython",
    "version": 3
   },
   "version": "3.7.4-final"
  },
  "orig_nbformat": 2,
  "file_extension": ".py",
  "mimetype": "text/x-python",
  "name": "python",
  "npconvert_exporter": "python",
  "pygments_lexer": "ipython3",
  "version": 3,
  "kernelspec": {
   "name": "python37464bitanacondavirtualenv61e39aa603104a298a0f9142bd93a04f",
   "display_name": "Python 3.7.4 64-bit ('Anaconda': virtualenv)"
  }
 },
 "cells": [
  {
   "cell_type": "code",
   "execution_count": 7,
   "metadata": {},
   "outputs": [
    {
     "output_type": "error",
     "ename": "ImportError",
     "evalue": "cannot import name 'get_dataset_from_url' from 'parser' (/home/ubuntu/Desktop/Diwakar/Software_Installations/Anaconda/lib/python3.7/lib-dynload/parser.cpython-37m-x86_64-linux-gnu.so)",
     "traceback": [
      "\u001b[0;31m---------------------------------------------------------------------------\u001b[0m",
      "\u001b[0;31mImportError\u001b[0m                               Traceback (most recent call last)",
      "\u001b[0;32m<ipython-input-7-3faa8a655474>\u001b[0m in \u001b[0;36m<module>\u001b[0;34m\u001b[0m\n\u001b[1;32m      1\u001b[0m \u001b[0;32mimport\u001b[0m \u001b[0mpandas\u001b[0m \u001b[0;32mas\u001b[0m \u001b[0mpd\u001b[0m\u001b[0;34m\u001b[0m\u001b[0;34m\u001b[0m\u001b[0m\n\u001b[1;32m      2\u001b[0m \u001b[0;32mimport\u001b[0m \u001b[0mnumpy\u001b[0m \u001b[0;32mas\u001b[0m \u001b[0mnumpy\u001b[0m\u001b[0;34m\u001b[0m\u001b[0;34m\u001b[0m\u001b[0m\n\u001b[0;32m----> 3\u001b[0;31m \u001b[0;32mfrom\u001b[0m \u001b[0mparser\u001b[0m \u001b[0;32mimport\u001b[0m \u001b[0mget_dataset_from_url\u001b[0m\u001b[0;34m\u001b[0m\u001b[0;34m\u001b[0m\u001b[0m\n\u001b[0m",
      "\u001b[0;31mImportError\u001b[0m: cannot import name 'get_dataset_from_url' from 'parser' (/home/ubuntu/Desktop/Diwakar/Software_Installations/Anaconda/lib/python3.7/lib-dynload/parser.cpython-37m-x86_64-linux-gnu.so)"
     ]
    }
   ],
   "source": [
    "import pandas as pd\n",
    "import numpy as numpy\n",
    "from parser import get_dataset_from_url"
   ]
  },
  {
   "cell_type": "code",
   "execution_count": 8,
   "metadata": {},
   "outputs": [
    {
     "output_type": "stream",
     "name": "stdout",
     "text": "['/home/ubuntu/Desktop/Diwakar/Works/AI_ML/NLP/Flipkart_parser', '/home/ubuntu/Desktop/Diwakar/Works/AI_ML/NLP/Flipkart_parser', '/home/ubuntu/Desktop/Diwakar/Works/AI_ML/NLP/Flipkart_parser', '/tmp/a122bcb6-c673-4bc9-bdc1-27da9704ee1d', '/home/ubuntu/.vscode/extensions/ms-python.python-2020.3.71659/pythonFiles', '/home/ubuntu/.vscode/extensions/ms-python.python-2020.3.71659/pythonFiles/lib/python', '/home/ubuntu/Desktop/Diwakar/Software_Installations/Anaconda/lib/python37.zip', '/home/ubuntu/Desktop/Diwakar/Software_Installations/Anaconda/lib/python3.7', '/home/ubuntu/Desktop/Diwakar/Software_Installations/Anaconda/lib/python3.7/lib-dynload', '', '/home/ubuntu/Desktop/Diwakar/Software_Installations/Anaconda/lib/python3.7/site-packages', '/home/ubuntu/Desktop/Diwakar/Software_Installations/Anaconda/lib/python3.7/site-packages/IPython/extensions', '/home/ubuntu/.ipython']\n"
    }
   ],
   "source": [
    "print(sys.path)"
   ]
  },
  {
   "cell_type": "code",
   "execution_count": 6,
   "metadata": {},
   "outputs": [
    {
     "output_type": "error",
     "ename": "ImportError",
     "evalue": "cannot import name 'get_dataset_from_url' from 'parser' (/home/ubuntu/Desktop/Diwakar/Software_Installations/Anaconda/lib/python3.7/lib-dynload/parser.cpython-37m-x86_64-linux-gnu.so)",
     "traceback": [
      "\u001b[0;31m---------------------------------------------------------------------------\u001b[0m",
      "\u001b[0;31mImportError\u001b[0m                               Traceback (most recent call last)",
      "\u001b[0;32m<ipython-input-6-07cd5b23dcc2>\u001b[0m in \u001b[0;36m<module>\u001b[0;34m\u001b[0m\n\u001b[1;32m      3\u001b[0m \u001b[0msys\u001b[0m\u001b[0;34m.\u001b[0m\u001b[0mpath\u001b[0m\u001b[0;34m.\u001b[0m\u001b[0minsert\u001b[0m\u001b[0;34m(\u001b[0m\u001b[0;36m1\u001b[0m\u001b[0;34m,\u001b[0m \u001b[0;34m'/home/ubuntu/Desktop/Diwakar/Works/AI_ML/NLP/Flipkart_parser'\u001b[0m\u001b[0;34m)\u001b[0m\u001b[0;34m\u001b[0m\u001b[0;34m\u001b[0m\u001b[0m\n\u001b[1;32m      4\u001b[0m \u001b[0;34m\u001b[0m\u001b[0m\n\u001b[0;32m----> 5\u001b[0;31m \u001b[0;32mfrom\u001b[0m \u001b[0mparser\u001b[0m \u001b[0;32mimport\u001b[0m \u001b[0mget_dataset_from_url\u001b[0m\u001b[0;34m\u001b[0m\u001b[0;34m\u001b[0m\u001b[0m\n\u001b[0m",
      "\u001b[0;31mImportError\u001b[0m: cannot import name 'get_dataset_from_url' from 'parser' (/home/ubuntu/Desktop/Diwakar/Software_Installations/Anaconda/lib/python3.7/lib-dynload/parser.cpython-37m-x86_64-linux-gnu.so)"
     ]
    }
   ],
   "source": [
    "import sys\n",
    "# insert at 1, 0 is the script path (or '' in REPL)\n",
    "sys.path.insert(1, '/home/ubuntu/Desktop/Diwakar/Works/AI_ML/NLP/Flipkart_parser')\n",
    "\n",
    "from parser import get_dataset_from_url"
   ]
  },
  {
   "cell_type": "code",
   "execution_count": 2,
   "metadata": {},
   "outputs": [
    {
     "output_type": "error",
     "ename": "NameError",
     "evalue": "name 'get_dataset_from_url' is not defined",
     "traceback": [
      "\u001b[0;31m---------------------------------------------------------------------------\u001b[0m",
      "\u001b[0;31mNameError\u001b[0m                                 Traceback (most recent call last)",
      "\u001b[0;32m<ipython-input-2-eefc5225f947>\u001b[0m in \u001b[0;36m<module>\u001b[0;34m\u001b[0m\n\u001b[1;32m      1\u001b[0m \u001b[0mmain_url\u001b[0m \u001b[0;34m=\u001b[0m \u001b[0;34m'https://www.flipkart.com/apple-ipad-7th-gen-32-gb-10-2-inch-wi-fi-only-gold/product-reviews/itmeb7a8cd2d3cf6?pid=TABFHF3A3GTFNHZH&lid=LSTTABFHF3A3GTFNHZH0VCIDD&marketplace=FLIPKART'\u001b[0m\u001b[0;34m\u001b[0m\u001b[0;34m\u001b[0m\u001b[0m\n\u001b[0;32m----> 2\u001b[0;31m \u001b[0mdata_set\u001b[0m \u001b[0;34m=\u001b[0m \u001b[0mget_dataset_from_url\u001b[0m\u001b[0;34m(\u001b[0m\u001b[0mmain_url\u001b[0m\u001b[0;34m)\u001b[0m\u001b[0;34m\u001b[0m\u001b[0;34m\u001b[0m\u001b[0m\n\u001b[0m\u001b[1;32m      3\u001b[0m \u001b[0;34m\u001b[0m\u001b[0m\n\u001b[1;32m      4\u001b[0m \u001b[0mdata_set\u001b[0m\u001b[0;34m.\u001b[0m\u001b[0mhead\u001b[0m\u001b[0;34m(\u001b[0m\u001b[0;36m5\u001b[0m\u001b[0;34m)\u001b[0m\u001b[0;34m\u001b[0m\u001b[0;34m\u001b[0m\u001b[0m\n",
      "\u001b[0;31mNameError\u001b[0m: name 'get_dataset_from_url' is not defined"
     ]
    }
   ],
   "source": [
    "main_url = 'https://www.flipkart.com/apple-ipad-7th-gen-32-gb-10-2-inch-wi-fi-only-gold/product-reviews/itmeb7a8cd2d3cf6?pid=TABFHF3A3GTFNHZH&lid=LSTTABFHF3A3GTFNHZH0VCIDD&marketplace=FLIPKART'\n",
    "data_set = get_dataset_from_url(main_url)\n",
    "\n",
    "data_set.head(5)"
   ]
  }
 ]
}